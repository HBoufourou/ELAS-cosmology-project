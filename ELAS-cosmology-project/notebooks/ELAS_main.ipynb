{
 "cells": [
  {
   "cell_type": "markdown",
   "id": "3bd33eca",
   "metadata": {},
   "source": [
    "# ELAS Main\n",
    "Global setup & utilities."
   ]
  },
  {
   "cell_type": "code",
   "execution_count": null,
   "id": "1f0a0b03",
   "metadata": {},
   "outputs": [],
   "source": [
    "print('ELAS setup placeholder')"
   ]
  }
 ],
 "metadata": {},
 "nbformat": 4,
 "nbformat_minor": 5
}
