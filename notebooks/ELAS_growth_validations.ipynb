{
 "cells": [
  {
   "cell_type": "markdown",
   "id": "ada41f18",
   "metadata": {},
   "source": [
    "# Growth validations"
   ]
  },
  {
   "cell_type": "code",
   "execution_count": null,
   "id": "e6dbdf55",
   "metadata": {},
   "outputs": [],
   "source": [
    "print('Add fσ8 and H(z) code here')"
   ]
  }
 ],
 "metadata": {},
 "nbformat": 4,
 "nbformat_minor": 5
}
